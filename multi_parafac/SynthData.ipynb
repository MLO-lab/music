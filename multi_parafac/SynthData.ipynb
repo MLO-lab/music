{
 "cells": [
  {
   "cell_type": "markdown",
   "id": "1b519a4b-b17b-4fce-9950-a1440d3d0d2b",
   "metadata": {},
   "source": [
    "# Reconstruction error on synthetic data"
   ]
  },
  {
   "cell_type": "code",
   "execution_count": 1,
   "id": "5e05258d-9e08-4b52-bad2-0f6ee8c5c15f",
   "metadata": {},
   "outputs": [],
   "source": [
    "CUDA_LAUNCH_BLOCKING=1"
   ]
  },
  {
   "cell_type": "code",
   "execution_count": 2,
   "id": "999cab2b-30ed-49a5-adb0-6ad5ad87b3d0",
   "metadata": {},
   "outputs": [
    {
     "name": "stderr",
     "output_type": "stream",
     "text": [
      "/home/kdeazevedo/opt/anaconda3/envs/parafac/lib/python3.11/site-packages/tqdm/auto.py:21: TqdmWarning: IProgress not found. Please update jupyter and ipywidgets. See https://ipywidgets.readthedocs.io/en/stable/user_install.html\n",
      "  from .autonotebook import tqdm as notebook_tqdm\n"
     ]
    }
   ],
   "source": [
    "import os\n",
    "import numpy as np\n",
    "import pandas as pd\n",
    "import pyro\n",
    "import pyro.distributions as dist\n",
    "from pyro.distributions import constraints\n",
    "from pyro.infer.autoguide.guides import AutoNormal, AutoMultivariateNormal\n",
    "import itertools\n",
    "import torch\n",
    "import random \n",
    "\n",
    "\n",
    "from sklearn.metrics import confusion_matrix\n",
    "from sklearn.metrics.pairwise import cosine_similarity\n",
    "from sklearn.datasets import make_blobs"
   ]
  },
  {
   "cell_type": "code",
   "execution_count": 3,
   "id": "68ece427-4976-4bee-ad15-06f7b199a331",
   "metadata": {},
   "outputs": [
    {
     "name": "stdout",
     "output_type": "stream",
     "text": [
      "Using matplotlib backend: <object object at 0x7f7c66f50a50>\n"
     ]
    }
   ],
   "source": [
    "%matplotlib\n",
    "%matplotlib inline\n",
    "import matplotlib.pyplot as plt\n",
    "import seaborn as sns"
   ]
  },
  {
   "cell_type": "code",
   "execution_count": 4,
   "id": "08fb82c6-d8a8-44c7-b640-3e537e7d65f7",
   "metadata": {},
   "outputs": [],
   "source": [
    "from parafac import models, synthetic, plots"
   ]
  },
  {
   "cell_type": "code",
   "execution_count": 5,
   "id": "09695999-f11a-4dda-b9f5-36aaca56d561",
   "metadata": {},
   "outputs": [],
   "source": [
    "def RMSELoss(yhat,y):\n",
    "    '''\n",
    "    Compute RMSE between two tensors\n",
    "    '''\n",
    "    return torch.sqrt(torch.mean((yhat-torch.nan_to_num(y))**2))"
   ]
  },
  {
   "cell_type": "markdown",
   "id": "bfc45d06-8f27-40c3-960c-4ad978aaf945",
   "metadata": {},
   "source": [
    "## Reconstruction error with fixed parameters"
   ]
  },
  {
   "cell_type": "code",
   "execution_count": 6,
   "id": "9f0da194-b4e9-4611-b74e-52a620e5b186",
   "metadata": {},
   "outputs": [],
   "source": [
    "# Data and model parameters\n",
    "R = 40\n",
    "a = 1\n",
    "b = 0.5\n",
    "c = 1\n",
    "d = 0.5\n",
    "n_drugs = 5\n",
    "n_patients = 20\n",
    "n_features = 3000\n",
    "n_views = 3\n",
    "torch.manual_seed(0)\n",
    "seeds = [0, 42, 2022]"
   ]
  },
  {
   "cell_type": "code",
   "execution_count": 7,
   "id": "21089270-8fcc-460b-8189-9b310dc6479a",
   "metadata": {},
   "outputs": [],
   "source": [
    "def create_list_tensors(R, n_drugs, n_patients, n_features, seeds, n) :\n",
    "    '''\n",
    "    Create a list of Tensors from generated parse factor matrices\n",
    "    R: int\n",
    "        Rank\n",
    "    n_drugs: int\n",
    "        number of drugs, size of first dimension\n",
    "    n_patients: int\n",
    "        number of patients, size of second dimension\n",
    "    n_features: int\n",
    "        number of features, size of third dimension\n",
    "    seeds: list\n",
    "        list of random seeds for the generation of factords matrices\n",
    "    n: int\n",
    "        Number of views\n",
    "    '''\n",
    "    list_tensor = []\n",
    "    # Create as many tensors as views\n",
    "    for i in range(n):\n",
    "        # Create shrinkages\n",
    "        view_shrinkage = torch.distributions.HalfCauchy(torch.ones(1))\n",
    "        rank_scale = torch.distributions.HalfCauchy(torch.ones(1))\n",
    "        local_scale = torch.distributions.HalfCauchy(torch.ones(1))\n",
    "        # We create three sparse matrices that serve as our factor matrices\n",
    "        X1, cluster_labels = make_blobs(n_samples=n_patients, n_features=R, random_state=seeds[i], center_box=(-0.1,0.1))\n",
    "        X2, cluster_labels = make_blobs(n_samples=n_drugs, n_features=R, random_state=seeds[i], center_box=(-0.1,0.1))\n",
    "        X3, cluster_labels = make_blobs(n_samples=n_features, n_features=R, random_state=seeds[i], \n",
    "                                        center_box=(-0.1,0.1))\n",
    "        A1 = torch.tensor(X1)\n",
    "        A2 = torch.tensor(X2)\n",
    "        A3 = torch.tensor(X3)\n",
    "        new_tensor =  torch.einsum('ir,jr,kr->ijk', A1, A2, A3)\n",
    "        # Add noise to the Tensor\n",
    "        new_tensor_noisy =  torch.distributions.Normal(new_tensor, 1/torch.sqrt(torch.Tensor([1]))).sample()\n",
    "        list_tensor.append(new_tensor_noisy)\n",
    "    return list_tensor"
   ]
  },
  {
   "cell_type": "code",
   "execution_count": 8,
   "id": "865c88e9-de10-4685-9d67-abc11b40ea73",
   "metadata": {},
   "outputs": [],
   "source": [
    "list_tensor = create_list_tensors(R, n_drugs, n_patients, n_features, seeds, n_views)"
   ]
  },
  {
   "cell_type": "code",
   "execution_count": 9,
   "id": "1f5cb415-f5a1-46b1-a7a4-aaa64ca5d0b9",
   "metadata": {},
   "outputs": [],
   "source": [
    "obs_outcome = torch.Tensor(random.choices([0,1,2,3], k=20))"
   ]
  },
  {
   "cell_type": "code",
   "execution_count": 10,
   "id": "d5a06958-5114-406e-8641-5431ce3eea80",
   "metadata": {},
   "outputs": [],
   "source": [
    "num_classes = 4\n",
    "one_hot_encoding = torch.nn.functional.one_hot(obs_outcome.to(torch.int64), num_classes=num_classes)\n",
    "one_hot_encoding = one_hot_encoding"
   ]
  },
  {
   "cell_type": "code",
   "execution_count": 11,
   "id": "31632f5e-aeaf-40d7-a27c-491f3fcb70fc",
   "metadata": {
    "tags": []
   },
   "outputs": [
    {
     "name": "stdout",
     "output_type": "stream",
     "text": [
      "device arg\n",
      "None\n",
      "self.device\n",
      "cuda:3\n"
     ]
    }
   ],
   "source": [
    "seed = 123\n",
    "n_epochs = 5000\n",
    "n_features = [n_features]*n_views\n",
    "n_views = len(n_features)\n",
    "p = 4 # number of categories\n",
    "\n",
    "# create an instance of the model\n",
    "model = models.PARAFAC(\n",
    "    list_tensor,\n",
    "    n_features = n_features,\n",
    "    outcome_obs = one_hot_encoding,\n",
    "    p = p,\n",
    "    R = R,\n",
    "    use_gpu = True\n",
    ")"
   ]
  },
  {
   "cell_type": "code",
   "execution_count": 12,
   "id": "01f2dbb8-e740-4473-94f8-b998baa70262",
   "metadata": {},
   "outputs": [
    {
     "name": "stdout",
     "output_type": "stream",
     "text": [
      "Cleaning parameter store\n",
      "torch.Size([20, 5, 9000])\n"
     ]
    },
    {
     "name": "stderr",
     "output_type": "stream",
     "text": [
      "  0%|                                                                                   | 0/5000 [00:00<?, ?it/s]/home/kdeazevedo/opt/anaconda3/envs/parafac/lib/python3.11/site-packages/pyro/infer/traceenum_elbo.py:355: UserWarning: TraceEnum_ELBO found no sample sites configured for enumeration. If you want to enumerate sites, you need to @config_enumerate or set infer={\"enumerate\": \"sequential\"} or infer={\"enumerate\": \"parallel\"}? If you do not want to enumerate, consider using Trace_ELBO instead.\n",
      "  warnings.warn(\n",
      "100%|██████████████████████████████████████████████████████████| 5000/5000 [04:20<00:00, 19.17it/s, ELBO=3.77e+4]\n"
     ]
    }
   ],
   "source": [
    "# set random seed\n",
    "pyro.set_rng_seed(seed)\n",
    "# clean start\n",
    "print(\"Cleaning parameter store\")\n",
    "pyro.enable_validation(True)\n",
    "pyro.clear_param_store()\n",
    "\n",
    "#run the model\n",
    "loss_history, _ = model.fit(\n",
    "    n_epochs=n_epochs,\n",
    "    n_particles=1,\n",
    "    learning_rate=0.001,\n",
    "    optimizer=\"clipped\",\n",
    "    verbose=1,\n",
    "    seed=seed\n",
    ")"
   ]
  },
  {
   "cell_type": "code",
   "execution_count": 13,
   "id": "43331cd2-9eb2-41d5-851e-656aaea42e98",
   "metadata": {},
   "outputs": [
    {
     "data": {
      "text/plain": [
       "[<matplotlib.lines.Line2D at 0x7f7c655d4590>]"
      ]
     },
     "execution_count": 13,
     "metadata": {},
     "output_type": "execute_result"
    },
    {
     "data": {
      "image/png": "[encoded data removed]",
      "text/plain": [
       "<Figure size 640x480 with 1 Axes>"
      ]
     },
     "metadata": {},
     "output_type": "display_data"
    }
   ],
   "source": [
    "plt.plot(loss_history)"
   ]
  },
  {
   "cell_type": "code",
   "execution_count": 14,
   "id": "6242439d-989e-453a-ba91-1433101eb5df",
   "metadata": {},
   "outputs": [],
   "source": [
    "# Get posteriors\n",
    "samples = model._guide.median()\n",
    "A2_sample = samples[\"A2\"].detach().cpu()\n",
    "A1_sample = samples[\"A1\"].detach().cpu()\n",
    "A3_sample = samples[\"A3\"].detach().cpu()\n",
    "tau = samples[\"tau\"].detach().cpu()\n",
    "lmbda = samples[\"lmbda\"].detach().cpu()"
   ]
  },
  {
   "cell_type": "code",
   "execution_count": null,
   "id": "f9d624a0-1000-41c1-8681-51b057d0627d",
   "metadata": {},
   "outputs": [],
   "source": []
  },
  {
   "cell_type": "code",
   "execution_count": 15,
   "id": "da6c0889-a552-41ee-b362-e3eab6c41b58",
   "metadata": {},
   "outputs": [],
   "source": [
    "# The inferred tensor is not taken from the posterior, but multiplied from the inferred factor matrices\n",
    "inferred_tensor = torch.einsum('ir,jr,kr->ijk', A1_sample, A2_sample, A3_sample)\n",
    "inferred_tensor_with_noise = pyro.sample(\"Y\", dist.Normal(torch.einsum('ir,jr,kr->ijk', A1_sample, A2_sample, A3_sample), 1/tau))"
   ]
  },
  {
   "cell_type": "code",
   "execution_count": 16,
   "id": "b915667c-0097-41e2-b6e4-49f305fdd5ed",
   "metadata": {},
   "outputs": [],
   "source": [
    "cat_tensor = torch.cat(list_tensor, 2)"
   ]
  },
  {
   "cell_type": "code",
   "execution_count": 17,
   "id": "6626b0dd-a49e-4c82-93ef-4d8e426b0562",
   "metadata": {},
   "outputs": [
    {
     "data": {
      "text/plain": [
       "tensor(7.8935, dtype=torch.float64)"
      ]
     },
     "execution_count": 17,
     "metadata": {},
     "output_type": "execute_result"
    }
   ],
   "source": [
    "RMSELoss(inferred_tensor_with_noise, torch.cat(list_tensor, 2))"
   ]
  },
  {
   "cell_type": "code",
   "execution_count": 18,
   "id": "697bfc59-e6b6-465c-8aa0-3cc0a129f7d8",
   "metadata": {},
   "outputs": [
    {
     "ename": "ValueError",
     "evalue": "Error while computing log_prob at site 'outcome':\nThe right-most size of value must match event_shape: torch.Size([20]) vs torch.Size([4]).\n      Trace Shapes:                 \n       Param Sites:                 \n      Sample Sites:                 \n          rank dist           |     \n              value        40 |     \n           log_prob           |     \n          view dist           |     \n              value         3 |     \n           log_prob           |     \n        sample dist           |     \n              value        20 |     \n           log_prob           |     \n        factor dist           |     \n              value         5 |     \n           log_prob           |     \n       feature dist           |     \n              value      9000 |     \n           log_prob           |     \n         class dist           |     \n              value         4 |     \n           log_prob           |     \n           tau dist           |     \n              value           |     \n           log_prob           |     \nview_shrinkage dist    3    1 |     \n              value    3    1 |     \n           log_prob    3    1 |     \n    rank_scale dist    3   40 |     \n              value    3   40 |     \n           log_prob    3   40 |     \n         lmbda dist        40 |     \n              value        40 |     \n           log_prob        40 |     \n            A1 dist   20   40 |     \n              value   20   40 |     \n           log_prob   20   40 |     \n            A2 dist    5   40 |     \n              value    5   40 |     \n           log_prob    5   40 |     \n   local_scale dist 9000   40 |     \n              value 9000   40 |     \n           log_prob 9000   40 |     \n            A3 dist 9000   40 |     \n              value 9000   40 |     \n           log_prob 9000   40 |     \n       w_prior dist    4   40 |     \n              value    4   40 |     \n           log_prob    4   40 |     \n       outcome dist   20    1 | 20 4\n              value           | 20  ",
     "output_type": "error",
     "traceback": [
      "\u001b[0;31m---------------------------------------------------------------------------\u001b[0m",
      "\u001b[0;31mValueError\u001b[0m                                Traceback (most recent call last)",
      "File \u001b[0;32m~/opt/anaconda3/envs/parafac/lib/python3.11/site-packages/pyro/poutine/trace_struct.py:230\u001b[0m, in \u001b[0;36mTrace.compute_log_prob\u001b[0;34m(self, site_filter)\u001b[0m\n\u001b[1;32m    229\u001b[0m \u001b[38;5;28;01mtry\u001b[39;00m:\n\u001b[0;32m--> 230\u001b[0m     log_p \u001b[38;5;241m=\u001b[39m \u001b[43msite\u001b[49m\u001b[43m[\u001b[49m\u001b[38;5;124;43m\"\u001b[39;49m\u001b[38;5;124;43mfn\u001b[39;49m\u001b[38;5;124;43m\"\u001b[39;49m\u001b[43m]\u001b[49m\u001b[38;5;241;43m.\u001b[39;49m\u001b[43mlog_prob\u001b[49m\u001b[43m(\u001b[49m\n\u001b[1;32m    231\u001b[0m \u001b[43m        \u001b[49m\u001b[43msite\u001b[49m\u001b[43m[\u001b[49m\u001b[38;5;124;43m\"\u001b[39;49m\u001b[38;5;124;43mvalue\u001b[39;49m\u001b[38;5;124;43m\"\u001b[39;49m\u001b[43m]\u001b[49m\u001b[43m,\u001b[49m\u001b[43m \u001b[49m\u001b[38;5;241;43m*\u001b[39;49m\u001b[43msite\u001b[49m\u001b[43m[\u001b[49m\u001b[38;5;124;43m\"\u001b[39;49m\u001b[38;5;124;43margs\u001b[39;49m\u001b[38;5;124;43m\"\u001b[39;49m\u001b[43m]\u001b[49m\u001b[43m,\u001b[49m\u001b[43m \u001b[49m\u001b[38;5;241;43m*\u001b[39;49m\u001b[38;5;241;43m*\u001b[39;49m\u001b[43msite\u001b[49m\u001b[43m[\u001b[49m\u001b[38;5;124;43m\"\u001b[39;49m\u001b[38;5;124;43mkwargs\u001b[39;49m\u001b[38;5;124;43m\"\u001b[39;49m\u001b[43m]\u001b[49m\n\u001b[1;32m    232\u001b[0m \u001b[43m    \u001b[49m\u001b[43m)\u001b[49m\n\u001b[1;32m    233\u001b[0m \u001b[38;5;28;01mexcept\u001b[39;00m \u001b[38;5;167;01mValueError\u001b[39;00m \u001b[38;5;28;01mas\u001b[39;00m e:\n",
      "File \u001b[0;32m~/opt/anaconda3/envs/parafac/lib/python3.11/site-packages/torch/distributions/independent.py:99\u001b[0m, in \u001b[0;36mIndependent.log_prob\u001b[0;34m(self, value)\u001b[0m\n\u001b[1;32m     98\u001b[0m \u001b[38;5;28;01mdef\u001b[39;00m \u001b[38;5;21mlog_prob\u001b[39m(\u001b[38;5;28mself\u001b[39m, value):\n\u001b[0;32m---> 99\u001b[0m     log_prob \u001b[38;5;241m=\u001b[39m \u001b[38;5;28;43mself\u001b[39;49m\u001b[38;5;241;43m.\u001b[39;49m\u001b[43mbase_dist\u001b[49m\u001b[38;5;241;43m.\u001b[39;49m\u001b[43mlog_prob\u001b[49m\u001b[43m(\u001b[49m\u001b[43mvalue\u001b[49m\u001b[43m)\u001b[49m\n\u001b[1;32m    100\u001b[0m     \u001b[38;5;28;01mreturn\u001b[39;00m _sum_rightmost(log_prob, \u001b[38;5;28mself\u001b[39m\u001b[38;5;241m.\u001b[39mreinterpreted_batch_ndims)\n",
      "File \u001b[0;32m~/opt/anaconda3/envs/parafac/lib/python3.11/site-packages/torch/distributions/one_hot_categorical.py:98\u001b[0m, in \u001b[0;36mOneHotCategorical.log_prob\u001b[0;34m(self, value)\u001b[0m\n\u001b[1;32m     97\u001b[0m \u001b[38;5;28;01mif\u001b[39;00m \u001b[38;5;28mself\u001b[39m\u001b[38;5;241m.\u001b[39m_validate_args:\n\u001b[0;32m---> 98\u001b[0m     \u001b[38;5;28;43mself\u001b[39;49m\u001b[38;5;241;43m.\u001b[39;49m\u001b[43m_validate_sample\u001b[49m\u001b[43m(\u001b[49m\u001b[43mvalue\u001b[49m\u001b[43m)\u001b[49m\n\u001b[1;32m     99\u001b[0m indices \u001b[38;5;241m=\u001b[39m value\u001b[38;5;241m.\u001b[39mmax(\u001b[38;5;241m-\u001b[39m\u001b[38;5;241m1\u001b[39m)[\u001b[38;5;241m1\u001b[39m]\n",
      "File \u001b[0;32m~/opt/anaconda3/envs/parafac/lib/python3.11/site-packages/torch/distributions/distribution.py:281\u001b[0m, in \u001b[0;36mDistribution._validate_sample\u001b[0;34m(self, value)\u001b[0m\n\u001b[1;32m    280\u001b[0m \u001b[38;5;28;01mif\u001b[39;00m value\u001b[38;5;241m.\u001b[39msize()[event_dim_start:] \u001b[38;5;241m!=\u001b[39m \u001b[38;5;28mself\u001b[39m\u001b[38;5;241m.\u001b[39m_event_shape:\n\u001b[0;32m--> 281\u001b[0m     \u001b[38;5;28;01mraise\u001b[39;00m \u001b[38;5;167;01mValueError\u001b[39;00m(\u001b[38;5;124m'\u001b[39m\u001b[38;5;124mThe right-most size of value must match event_shape: \u001b[39m\u001b[38;5;132;01m{}\u001b[39;00m\u001b[38;5;124m vs \u001b[39m\u001b[38;5;132;01m{}\u001b[39;00m\u001b[38;5;124m.\u001b[39m\u001b[38;5;124m'\u001b[39m\u001b[38;5;241m.\u001b[39m\n\u001b[1;32m    282\u001b[0m                      \u001b[38;5;28mformat\u001b[39m(value\u001b[38;5;241m.\u001b[39msize(), \u001b[38;5;28mself\u001b[39m\u001b[38;5;241m.\u001b[39m_event_shape))\n\u001b[1;32m    284\u001b[0m actual_shape \u001b[38;5;241m=\u001b[39m value\u001b[38;5;241m.\u001b[39msize()\n",
      "\u001b[0;31mValueError\u001b[0m: The right-most size of value must match event_shape: torch.Size([20]) vs torch.Size([4]).",
      "\nThe above exception was the direct cause of the following exception:\n",
      "\u001b[0;31mValueError\u001b[0m                                Traceback (most recent call last)",
      "Cell \u001b[0;32mIn[18], line 2\u001b[0m\n\u001b[1;32m      1\u001b[0m trace \u001b[38;5;241m=\u001b[39m pyro\u001b[38;5;241m.\u001b[39mpoutine\u001b[38;5;241m.\u001b[39mtrace(model\u001b[38;5;241m.\u001b[39m_model)\u001b[38;5;241m.\u001b[39mget_trace(cat_tensor\u001b[38;5;241m.\u001b[39mcpu(), obs_outcome, \u001b[38;5;241m~\u001b[39mtorch\u001b[38;5;241m.\u001b[39misnan(cat_tensor\u001b[38;5;241m.\u001b[39mcpu()))\n\u001b[0;32m----> 2\u001b[0m \u001b[43mtrace\u001b[49m\u001b[38;5;241;43m.\u001b[39;49m\u001b[43mcompute_log_prob\u001b[49m\u001b[43m(\u001b[49m\u001b[43m)\u001b[49m  \u001b[38;5;66;03m# optional, but allows printing of log_prob shapes\u001b[39;00m\n\u001b[1;32m      3\u001b[0m \u001b[38;5;28mprint\u001b[39m(trace\u001b[38;5;241m.\u001b[39mformat_shapes())\n",
      "File \u001b[0;32m~/opt/anaconda3/envs/parafac/lib/python3.11/site-packages/pyro/poutine/trace_struct.py:236\u001b[0m, in \u001b[0;36mTrace.compute_log_prob\u001b[0;34m(self, site_filter)\u001b[0m\n\u001b[1;32m    234\u001b[0m     _, exc_value, traceback \u001b[38;5;241m=\u001b[39m sys\u001b[38;5;241m.\u001b[39mexc_info()\n\u001b[1;32m    235\u001b[0m     shapes \u001b[38;5;241m=\u001b[39m \u001b[38;5;28mself\u001b[39m\u001b[38;5;241m.\u001b[39mformat_shapes(last_site\u001b[38;5;241m=\u001b[39msite[\u001b[38;5;124m\"\u001b[39m\u001b[38;5;124mname\u001b[39m\u001b[38;5;124m\"\u001b[39m])\n\u001b[0;32m--> 236\u001b[0m     \u001b[38;5;28;01mraise\u001b[39;00m \u001b[38;5;167;01mValueError\u001b[39;00m(\n\u001b[1;32m    237\u001b[0m         \u001b[38;5;124m\"\u001b[39m\u001b[38;5;124mError while computing log_prob at site \u001b[39m\u001b[38;5;124m'\u001b[39m\u001b[38;5;132;01m{}\u001b[39;00m\u001b[38;5;124m'\u001b[39m\u001b[38;5;124m:\u001b[39m\u001b[38;5;130;01m\\n\u001b[39;00m\u001b[38;5;132;01m{}\u001b[39;00m\u001b[38;5;130;01m\\n\u001b[39;00m\u001b[38;5;132;01m{}\u001b[39;00m\u001b[38;5;124m\"\u001b[39m\u001b[38;5;241m.\u001b[39mformat(\n\u001b[1;32m    238\u001b[0m             name, exc_value, shapes\n\u001b[1;32m    239\u001b[0m         )\n\u001b[1;32m    240\u001b[0m     )\u001b[38;5;241m.\u001b[39mwith_traceback(traceback) \u001b[38;5;28;01mfrom\u001b[39;00m \u001b[38;5;21;01me\u001b[39;00m\n\u001b[1;32m    241\u001b[0m site[\u001b[38;5;124m\"\u001b[39m\u001b[38;5;124munscaled_log_prob\u001b[39m\u001b[38;5;124m\"\u001b[39m] \u001b[38;5;241m=\u001b[39m log_p\n\u001b[1;32m    242\u001b[0m log_p \u001b[38;5;241m=\u001b[39m scale_and_mask(log_p, site[\u001b[38;5;124m\"\u001b[39m\u001b[38;5;124mscale\u001b[39m\u001b[38;5;124m\"\u001b[39m], site[\u001b[38;5;124m\"\u001b[39m\u001b[38;5;124mmask\u001b[39m\u001b[38;5;124m\"\u001b[39m])\n",
      "File \u001b[0;32m~/opt/anaconda3/envs/parafac/lib/python3.11/site-packages/pyro/poutine/trace_struct.py:230\u001b[0m, in \u001b[0;36mTrace.compute_log_prob\u001b[0;34m(self, site_filter)\u001b[0m\n\u001b[1;32m    228\u001b[0m \u001b[38;5;28;01mif\u001b[39;00m \u001b[38;5;124m\"\u001b[39m\u001b[38;5;124mlog_prob\u001b[39m\u001b[38;5;124m\"\u001b[39m \u001b[38;5;129;01mnot\u001b[39;00m \u001b[38;5;129;01min\u001b[39;00m site:\n\u001b[1;32m    229\u001b[0m     \u001b[38;5;28;01mtry\u001b[39;00m:\n\u001b[0;32m--> 230\u001b[0m         log_p \u001b[38;5;241m=\u001b[39m \u001b[43msite\u001b[49m\u001b[43m[\u001b[49m\u001b[38;5;124;43m\"\u001b[39;49m\u001b[38;5;124;43mfn\u001b[39;49m\u001b[38;5;124;43m\"\u001b[39;49m\u001b[43m]\u001b[49m\u001b[38;5;241;43m.\u001b[39;49m\u001b[43mlog_prob\u001b[49m\u001b[43m(\u001b[49m\n\u001b[1;32m    231\u001b[0m \u001b[43m            \u001b[49m\u001b[43msite\u001b[49m\u001b[43m[\u001b[49m\u001b[38;5;124;43m\"\u001b[39;49m\u001b[38;5;124;43mvalue\u001b[39;49m\u001b[38;5;124;43m\"\u001b[39;49m\u001b[43m]\u001b[49m\u001b[43m,\u001b[49m\u001b[43m \u001b[49m\u001b[38;5;241;43m*\u001b[39;49m\u001b[43msite\u001b[49m\u001b[43m[\u001b[49m\u001b[38;5;124;43m\"\u001b[39;49m\u001b[38;5;124;43margs\u001b[39;49m\u001b[38;5;124;43m\"\u001b[39;49m\u001b[43m]\u001b[49m\u001b[43m,\u001b[49m\u001b[43m \u001b[49m\u001b[38;5;241;43m*\u001b[39;49m\u001b[38;5;241;43m*\u001b[39;49m\u001b[43msite\u001b[49m\u001b[43m[\u001b[49m\u001b[38;5;124;43m\"\u001b[39;49m\u001b[38;5;124;43mkwargs\u001b[39;49m\u001b[38;5;124;43m\"\u001b[39;49m\u001b[43m]\u001b[49m\n\u001b[1;32m    232\u001b[0m \u001b[43m        \u001b[49m\u001b[43m)\u001b[49m\n\u001b[1;32m    233\u001b[0m     \u001b[38;5;28;01mexcept\u001b[39;00m \u001b[38;5;167;01mValueError\u001b[39;00m \u001b[38;5;28;01mas\u001b[39;00m e:\n\u001b[1;32m    234\u001b[0m         _, exc_value, traceback \u001b[38;5;241m=\u001b[39m sys\u001b[38;5;241m.\u001b[39mexc_info()\n",
      "File \u001b[0;32m~/opt/anaconda3/envs/parafac/lib/python3.11/site-packages/torch/distributions/independent.py:99\u001b[0m, in \u001b[0;36mIndependent.log_prob\u001b[0;34m(self, value)\u001b[0m\n\u001b[1;32m     98\u001b[0m \u001b[38;5;28;01mdef\u001b[39;00m \u001b[38;5;21mlog_prob\u001b[39m(\u001b[38;5;28mself\u001b[39m, value):\n\u001b[0;32m---> 99\u001b[0m     log_prob \u001b[38;5;241m=\u001b[39m \u001b[38;5;28;43mself\u001b[39;49m\u001b[38;5;241;43m.\u001b[39;49m\u001b[43mbase_dist\u001b[49m\u001b[38;5;241;43m.\u001b[39;49m\u001b[43mlog_prob\u001b[49m\u001b[43m(\u001b[49m\u001b[43mvalue\u001b[49m\u001b[43m)\u001b[49m\n\u001b[1;32m    100\u001b[0m     \u001b[38;5;28;01mreturn\u001b[39;00m _sum_rightmost(log_prob, \u001b[38;5;28mself\u001b[39m\u001b[38;5;241m.\u001b[39mreinterpreted_batch_ndims)\n",
      "File \u001b[0;32m~/opt/anaconda3/envs/parafac/lib/python3.11/site-packages/torch/distributions/one_hot_categorical.py:98\u001b[0m, in \u001b[0;36mOneHotCategorical.log_prob\u001b[0;34m(self, value)\u001b[0m\n\u001b[1;32m     96\u001b[0m \u001b[38;5;28;01mdef\u001b[39;00m \u001b[38;5;21mlog_prob\u001b[39m(\u001b[38;5;28mself\u001b[39m, value):\n\u001b[1;32m     97\u001b[0m     \u001b[38;5;28;01mif\u001b[39;00m \u001b[38;5;28mself\u001b[39m\u001b[38;5;241m.\u001b[39m_validate_args:\n\u001b[0;32m---> 98\u001b[0m         \u001b[38;5;28;43mself\u001b[39;49m\u001b[38;5;241;43m.\u001b[39;49m\u001b[43m_validate_sample\u001b[49m\u001b[43m(\u001b[49m\u001b[43mvalue\u001b[49m\u001b[43m)\u001b[49m\n\u001b[1;32m     99\u001b[0m     indices \u001b[38;5;241m=\u001b[39m value\u001b[38;5;241m.\u001b[39mmax(\u001b[38;5;241m-\u001b[39m\u001b[38;5;241m1\u001b[39m)[\u001b[38;5;241m1\u001b[39m]\n\u001b[1;32m    100\u001b[0m     \u001b[38;5;28;01mreturn\u001b[39;00m \u001b[38;5;28mself\u001b[39m\u001b[38;5;241m.\u001b[39m_categorical\u001b[38;5;241m.\u001b[39mlog_prob(indices)\n",
      "File \u001b[0;32m~/opt/anaconda3/envs/parafac/lib/python3.11/site-packages/torch/distributions/distribution.py:281\u001b[0m, in \u001b[0;36mDistribution._validate_sample\u001b[0;34m(self, value)\u001b[0m\n\u001b[1;32m    279\u001b[0m event_dim_start \u001b[38;5;241m=\u001b[39m \u001b[38;5;28mlen\u001b[39m(value\u001b[38;5;241m.\u001b[39msize()) \u001b[38;5;241m-\u001b[39m \u001b[38;5;28mlen\u001b[39m(\u001b[38;5;28mself\u001b[39m\u001b[38;5;241m.\u001b[39m_event_shape)\n\u001b[1;32m    280\u001b[0m \u001b[38;5;28;01mif\u001b[39;00m value\u001b[38;5;241m.\u001b[39msize()[event_dim_start:] \u001b[38;5;241m!=\u001b[39m \u001b[38;5;28mself\u001b[39m\u001b[38;5;241m.\u001b[39m_event_shape:\n\u001b[0;32m--> 281\u001b[0m     \u001b[38;5;28;01mraise\u001b[39;00m \u001b[38;5;167;01mValueError\u001b[39;00m(\u001b[38;5;124m'\u001b[39m\u001b[38;5;124mThe right-most size of value must match event_shape: \u001b[39m\u001b[38;5;132;01m{}\u001b[39;00m\u001b[38;5;124m vs \u001b[39m\u001b[38;5;132;01m{}\u001b[39;00m\u001b[38;5;124m.\u001b[39m\u001b[38;5;124m'\u001b[39m\u001b[38;5;241m.\u001b[39m\n\u001b[1;32m    282\u001b[0m                      \u001b[38;5;28mformat\u001b[39m(value\u001b[38;5;241m.\u001b[39msize(), \u001b[38;5;28mself\u001b[39m\u001b[38;5;241m.\u001b[39m_event_shape))\n\u001b[1;32m    284\u001b[0m actual_shape \u001b[38;5;241m=\u001b[39m value\u001b[38;5;241m.\u001b[39msize()\n\u001b[1;32m    285\u001b[0m expected_shape \u001b[38;5;241m=\u001b[39m \u001b[38;5;28mself\u001b[39m\u001b[38;5;241m.\u001b[39m_batch_shape \u001b[38;5;241m+\u001b[39m \u001b[38;5;28mself\u001b[39m\u001b[38;5;241m.\u001b[39m_event_shape\n",
      "\u001b[0;31mValueError\u001b[0m: Error while computing log_prob at site 'outcome':\nThe right-most size of value must match event_shape: torch.Size([20]) vs torch.Size([4]).\n      Trace Shapes:                 \n       Param Sites:                 \n      Sample Sites:                 \n          rank dist           |     \n              value        40 |     \n           log_prob           |     \n          view dist           |     \n              value         3 |     \n           log_prob           |     \n        sample dist           |     \n              value        20 |     \n           log_prob           |     \n        factor dist           |     \n              value         5 |     \n           log_prob           |     \n       feature dist           |     \n              value      9000 |     \n           log_prob           |     \n         class dist           |     \n              value         4 |     \n           log_prob           |     \n           tau dist           |     \n              value           |     \n           log_prob           |     \nview_shrinkage dist    3    1 |     \n              value    3    1 |     \n           log_prob    3    1 |     \n    rank_scale dist    3   40 |     \n              value    3   40 |     \n           log_prob    3   40 |     \n         lmbda dist        40 |     \n              value        40 |     \n           log_prob        40 |     \n            A1 dist   20   40 |     \n              value   20   40 |     \n           log_prob   20   40 |     \n            A2 dist    5   40 |     \n              value    5   40 |     \n           log_prob    5   40 |     \n   local_scale dist 9000   40 |     \n              value 9000   40 |     \n           log_prob 9000   40 |     \n            A3 dist 9000   40 |     \n              value 9000   40 |     \n           log_prob 9000   40 |     \n       w_prior dist    4   40 |     \n              value    4   40 |     \n           log_prob    4   40 |     \n       outcome dist   20    1 | 20 4\n              value           | 20  "
     ]
    }
   ],
   "source": [
    "trace = pyro.poutine.trace(model._model).get_trace(cat_tensor.cpu(), obs_outcome, ~torch.isnan(cat_tensor.cpu()))\n",
    "trace.compute_log_prob()  # optional, but allows printing of log_prob shapes\n",
    "print(trace.format_shapes())"
   ]
  },
  {
   "cell_type": "code",
   "execution_count": null,
   "id": "9f9cd3e1-10ed-4fac-85f2-67bf1f9918cd",
   "metadata": {},
   "outputs": [],
   "source": [
    "pyro.render_model(model._model, model_args=(cat_tensor.cpu(), obs_outcome, ~torch.isnan(cat_tensor.cpu())), render_distributions=True)"
   ]
  },
  {
   "cell_type": "code",
   "execution_count": null,
   "id": "ae9d9b9d-ccdb-41ea-8b6a-9e0304011fde",
   "metadata": {},
   "outputs": [],
   "source": []
  },
  {
   "cell_type": "code",
   "execution_count": null,
   "id": "0c58ec73-0497-406a-b1f1-69a5a3966ca6",
   "metadata": {},
   "outputs": [],
   "source": [
    "rank_scale = samples[\"rank_scale\"].detach().cpu()\n",
    "view_shrinkage = samples[\"view_shrinkage\"]\n",
    "local_scale = samples[\"local_scale\"]\n",
    "A1_infer = samples[\"A1\"]\n",
    "A2_infer = samples[\"A2\"]"
   ]
  },
  {
   "cell_type": "code",
   "execution_count": null,
   "id": "22e33276-3db3-490c-b011-e67964483de4",
   "metadata": {},
   "outputs": [],
   "source": [
    "rank_scale"
   ]
  },
  {
   "cell_type": "code",
   "execution_count": null,
   "id": "b5e44c58-7c47-4b1a-baf7-78dc4955625e",
   "metadata": {},
   "outputs": [],
   "source": [
    "view_shrinkage"
   ]
  },
  {
   "cell_type": "code",
   "execution_count": null,
   "id": "ae9b1560-5c88-4fe9-bb59-3f9f02427b1a",
   "metadata": {},
   "outputs": [],
   "source": [
    "sns.heatmap(rank_scale)"
   ]
  },
  {
   "cell_type": "code",
   "execution_count": null,
   "id": "a450e6f2-a488-4fa7-ae0d-38064991f34e",
   "metadata": {},
   "outputs": [],
   "source": []
  },
  {
   "cell_type": "code",
   "execution_count": null,
   "id": "6ac8ff1d-6610-4fd6-9701-130bd25ba5e1",
   "metadata": {},
   "outputs": [],
   "source": [
    "X1, cluster_labels = make_blobs(n_samples=10, centers=2, n_features=20, random_state=0, cluster_std=1, center_box=(-0.1,0.1))\n",
    "X2, cluster_labels = make_blobs(n_samples=10, centers=2, n_features=20, random_state=0, cluster_std=1, center_box=(-0.1,0.1))\n",
    "A1 = torch.tensor(X1)\n",
    "A2 = torch.tensor(X2)\n",
    "A1_df = pd.DataFrame(A1)\n",
    "A2_df = pd.DataFrame(A2)"
   ]
  },
  {
   "cell_type": "code",
   "execution_count": null,
   "id": "0daec08f-16d5-4c38-ad66-8f3311f1029b",
   "metadata": {},
   "outputs": [],
   "source": [
    "hist(A1_df)"
   ]
  },
  {
   "cell_type": "code",
   "execution_count": null,
   "id": "5006d08b-f05e-4cb9-aa68-1dbbd1a9eeb1",
   "metadata": {},
   "outputs": [],
   "source": [
    "metadata = pd.DataFrame({\"drug\": cluster_labels,\n",
    "                        \"patients\": list(np.arange(0,(10/2)))*2})"
   ]
  },
  {
   "cell_type": "code",
   "execution_count": null,
   "id": "0ec8abd1-5db2-4591-9309-7ad0a1b8f775",
   "metadata": {},
   "outputs": [],
   "source": [
    "metadata"
   ]
  },
  {
   "cell_type": "code",
   "execution_count": null,
   "id": "6c782256-8961-4e65-a57a-31f52e188b6b",
   "metadata": {},
   "outputs": [],
   "source": [
    "list_mat = [A1_df, A2_df]"
   ]
  },
  {
   "cell_type": "code",
   "execution_count": null,
   "id": "f4fb3b1c-e456-4b3f-a47f-dad285195181",
   "metadata": {},
   "outputs": [],
   "source": [
    "len(metadata.columns)"
   ]
  },
  {
   "cell_type": "code",
   "execution_count": null,
   "id": "501bac1f-d38b-4273-8c24-3527f1401248",
   "metadata": {},
   "outputs": [],
   "source": [
    "len(set(list(metadata.drug)))"
   ]
  },
  {
   "cell_type": "code",
   "execution_count": null,
   "id": "08840487-5c60-4368-bed7-c2280c82d10d",
   "metadata": {},
   "outputs": [],
   "source": [
    "list_mat[0]"
   ]
  },
  {
   "cell_type": "code",
   "execution_count": null,
   "id": "4460d293-b1d2-4af9-8fbc-696e61a7cd17",
   "metadata": {},
   "outputs": [],
   "source": []
  },
  {
   "cell_type": "code",
   "execution_count": null,
   "id": "4d749d75-0347-4b28-8798-a1c9500d29ae",
   "metadata": {},
   "outputs": [],
   "source": []
  }
 ],
 "metadata": {
  "kernelspec": {
   "display_name": "Python 3 (ipykernel)",
   "language": "python",
   "name": "python3"
  },
  "language_info": {
   "codemirror_mode": {
    "name": "ipython",
    "version": 3
   },
   "file_extension": ".py",
   "mimetype": "text/x-python",
   "name": "python",
   "nbconvert_exporter": "python",
   "pygments_lexer": "ipython3",
   "version": "3.11.4"
  }
 },
 "nbformat": 4,
 "nbformat_minor": 5
}
